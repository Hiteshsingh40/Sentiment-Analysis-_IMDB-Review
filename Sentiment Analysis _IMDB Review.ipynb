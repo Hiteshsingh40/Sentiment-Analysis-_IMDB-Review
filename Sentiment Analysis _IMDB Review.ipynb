{
 "cells": [
  {
   "cell_type": "code",
   "execution_count": 1,
   "metadata": {},
   "outputs": [],
   "source": [
    "import numpy as np #Linear Algebra\n",
    "import pandas as pd   #Data processing, CSV file I/O (e.g. pd.read_csv)\n",
    "import nltk  #NLTK Library"
   ]
  },
  {
   "cell_type": "code",
   "execution_count": 2,
   "metadata": {},
   "outputs": [
    {
     "data": {
      "text/html": [
       "<div>\n",
       "<style scoped>\n",
       "    .dataframe tbody tr th:only-of-type {\n",
       "        vertical-align: middle;\n",
       "    }\n",
       "\n",
       "    .dataframe tbody tr th {\n",
       "        vertical-align: top;\n",
       "    }\n",
       "\n",
       "    .dataframe thead th {\n",
       "        text-align: right;\n",
       "    }\n",
       "</style>\n",
       "<table border=\"1\" class=\"dataframe\">\n",
       "  <thead>\n",
       "    <tr style=\"text-align: right;\">\n",
       "      <th></th>\n",
       "      <th>review</th>\n",
       "      <th>sentiment</th>\n",
       "    </tr>\n",
       "  </thead>\n",
       "  <tbody>\n",
       "    <tr>\n",
       "      <th>0</th>\n",
       "      <td>One of the other reviewers has mentioned that ...</td>\n",
       "      <td>positive</td>\n",
       "    </tr>\n",
       "    <tr>\n",
       "      <th>1</th>\n",
       "      <td>A wonderful little production. &lt;br /&gt;&lt;br /&gt;The...</td>\n",
       "      <td>positive</td>\n",
       "    </tr>\n",
       "    <tr>\n",
       "      <th>2</th>\n",
       "      <td>I thought this was a wonderful way to spend ti...</td>\n",
       "      <td>positive</td>\n",
       "    </tr>\n",
       "    <tr>\n",
       "      <th>3</th>\n",
       "      <td>Basically there's a family where a little boy ...</td>\n",
       "      <td>negative</td>\n",
       "    </tr>\n",
       "    <tr>\n",
       "      <th>4</th>\n",
       "      <td>Petter Mattei's \"Love in the Time of Money\" is...</td>\n",
       "      <td>positive</td>\n",
       "    </tr>\n",
       "  </tbody>\n",
       "</table>\n",
       "</div>"
      ],
      "text/plain": [
       "                                              review sentiment\n",
       "0  One of the other reviewers has mentioned that ...  positive\n",
       "1  A wonderful little production. <br /><br />The...  positive\n",
       "2  I thought this was a wonderful way to spend ti...  positive\n",
       "3  Basically there's a family where a little boy ...  negative\n",
       "4  Petter Mattei's \"Love in the Time of Money\" is...  positive"
      ]
     },
     "execution_count": 2,
     "metadata": {},
     "output_type": "execute_result"
    }
   ],
   "source": [
    "#Loading the dataset\n",
    "data = pd.read_csv(\"IMDB_Review.csv\")\n",
    "data.head()"
   ]
  },
  {
   "cell_type": "code",
   "execution_count": 3,
   "metadata": {},
   "outputs": [
    {
     "data": {
      "text/plain": [
       "(50000, 2)"
      ]
     },
     "execution_count": 3,
     "metadata": {},
     "output_type": "execute_result"
    }
   ],
   "source": [
    "data.shape"
   ]
  },
  {
   "cell_type": "code",
   "execution_count": 4,
   "metadata": {},
   "outputs": [
    {
     "name": "stdout",
     "output_type": "stream",
     "text": [
      "<class 'pandas.core.frame.DataFrame'>\n",
      "RangeIndex: 50000 entries, 0 to 49999\n",
      "Data columns (total 2 columns):\n",
      " #   Column     Non-Null Count  Dtype \n",
      "---  ------     --------------  ----- \n",
      " 0   review     50000 non-null  object\n",
      " 1   sentiment  50000 non-null  object\n",
      "dtypes: object(2)\n",
      "memory usage: 781.4+ KB\n"
     ]
    }
   ],
   "source": [
    "#Checking the information of the datset\n",
    "data.info()"
   ]
  },
  {
   "cell_type": "code",
   "execution_count": 5,
   "metadata": {},
   "outputs": [
    {
     "data": {
      "text/plain": [
       "array(['positive', 'negative'], dtype=object)"
      ]
     },
     "execution_count": 5,
     "metadata": {},
     "output_type": "execute_result"
    }
   ],
   "source": [
    "#Checking the label attribute which is sentiment\n",
    "data.sentiment.unique()"
   ]
  },
  {
   "cell_type": "code",
   "execution_count": 6,
   "metadata": {},
   "outputs": [
    {
     "data": {
      "text/plain": [
       "2"
      ]
     },
     "execution_count": 6,
     "metadata": {},
     "output_type": "execute_result"
    }
   ],
   "source": [
    "data.sentiment.nunique()"
   ]
  },
  {
   "cell_type": "code",
   "execution_count": 7,
   "metadata": {},
   "outputs": [
    {
     "data": {
      "text/plain": [
       "positive    25000\n",
       "negative    25000\n",
       "Name: sentiment, dtype: int64"
      ]
     },
     "execution_count": 7,
     "metadata": {},
     "output_type": "execute_result"
    }
   ],
   "source": [
    "data.sentiment.value_counts()"
   ]
  },
  {
   "cell_type": "code",
   "execution_count": 8,
   "metadata": {},
   "outputs": [
    {
     "data": {
      "text/html": [
       "<div>\n",
       "<style scoped>\n",
       "    .dataframe tbody tr th:only-of-type {\n",
       "        vertical-align: middle;\n",
       "    }\n",
       "\n",
       "    .dataframe tbody tr th {\n",
       "        vertical-align: top;\n",
       "    }\n",
       "\n",
       "    .dataframe thead th {\n",
       "        text-align: right;\n",
       "    }\n",
       "</style>\n",
       "<table border=\"1\" class=\"dataframe\">\n",
       "  <thead>\n",
       "    <tr style=\"text-align: right;\">\n",
       "      <th></th>\n",
       "      <th>review</th>\n",
       "      <th>sentiment</th>\n",
       "    </tr>\n",
       "  </thead>\n",
       "  <tbody>\n",
       "    <tr>\n",
       "      <th>0</th>\n",
       "      <td>One of the other reviewers has mentioned that ...</td>\n",
       "      <td>1</td>\n",
       "    </tr>\n",
       "    <tr>\n",
       "      <th>1</th>\n",
       "      <td>A wonderful little production. &lt;br /&gt;&lt;br /&gt;The...</td>\n",
       "      <td>1</td>\n",
       "    </tr>\n",
       "    <tr>\n",
       "      <th>2</th>\n",
       "      <td>I thought this was a wonderful way to spend ti...</td>\n",
       "      <td>1</td>\n",
       "    </tr>\n",
       "    <tr>\n",
       "      <th>3</th>\n",
       "      <td>Basically there's a family where a little boy ...</td>\n",
       "      <td>0</td>\n",
       "    </tr>\n",
       "    <tr>\n",
       "      <th>4</th>\n",
       "      <td>Petter Mattei's \"Love in the Time of Money\" is...</td>\n",
       "      <td>1</td>\n",
       "    </tr>\n",
       "  </tbody>\n",
       "</table>\n",
       "</div>"
      ],
      "text/plain": [
       "                                              review  sentiment\n",
       "0  One of the other reviewers has mentioned that ...          1\n",
       "1  A wonderful little production. <br /><br />The...          1\n",
       "2  I thought this was a wonderful way to spend ti...          1\n",
       "3  Basically there's a family where a little boy ...          0\n",
       "4  Petter Mattei's \"Love in the Time of Money\" is...          1"
      ]
     },
     "execution_count": 8,
     "metadata": {},
     "output_type": "execute_result"
    }
   ],
   "source": [
    "#Label encode sentiment to 1(positive) and 0(negative)\n",
    "data.sentiment.replace('positive', 1, inplace=True)\n",
    "data.sentiment.replace('negative', 0, inplace=True)\n",
    "\n",
    "#Now checking the head part\n",
    "data.head()"
   ]
  },
  {
   "cell_type": "code",
   "execution_count": 9,
   "metadata": {},
   "outputs": [
    {
     "data": {
      "text/plain": [
       "\"One of the other reviewers has mentioned that after watching just 1 Oz episode you'll be hooked. They are right, as this is exactly what happened with me.<br /><br />The first thing that struck me about Oz was its brutality and unflinching scenes of violence, which set in right from the word GO. Trust me, this is not a show for the faint hearted or timid. This show pulls no punches with regards to drugs, sex or violence. Its is hardcore, in the classic use of the word.<br /><br />It is called OZ as that is the nickname given to the Oswald Maximum Security State Penitentary. It focuses mainly on Emerald City, an experimental section of the prison where all the cells have glass fronts and face inwards, so privacy is not high on the agenda. Em City is home to many..Aryans, Muslims, gangstas, Latinos, Christians, Italians, Irish and more....so scuffles, death stares, dodgy dealings and shady agreements are never far away.<br /><br />I would say the main appeal of the show is due to the fact that it goes where other shows wouldn't dare. Forget pretty pictures painted for mainstream audiences, forget charm, forget romance...OZ doesn't mess around. The first episode I ever saw struck me as so nasty it was surreal, I couldn't say I was ready for it, but as I watched more, I developed a taste for Oz, and got accustomed to the high levels of graphic violence. Not just violence, but injustice (crooked guards who'll be sold out for a nickel, inmates who'll kill on order and get away with it, well mannered, middle class inmates being turned into prison bitches due to their lack of street skills or prison experience) Watching Oz, you may become comfortable with what is uncomfortable viewing....thats if you can get in touch with your darker side.\""
      ]
     },
     "execution_count": 9,
     "metadata": {},
     "output_type": "execute_result"
    }
   ],
   "source": [
    "#Now checking the review column\n",
    "data.review[0]"
   ]
  },
  {
   "cell_type": "markdown",
   "metadata": {},
   "source": [
    "## STEPS TO CLEAN THE REVIEWS :\n",
    "\n",
    "* Remove HTML tags\n",
    "\n",
    "* Remove special characters\n",
    "\n",
    "* Convert everything to lowercase\n",
    "\n",
    "* Remove stopwords\n",
    "\n",
    "* Stemming"
   ]
  },
  {
   "cell_type": "code",
   "execution_count": 10,
   "metadata": {},
   "outputs": [
    {
     "data": {
      "text/plain": [
       "\"One of the other reviewers has mentioned that after watching just 1 Oz episode you'll be hooked. They are right, as this is exactly what happened with me.  The first thing that struck me about Oz was its brutality and unflinching scenes of violence, which set in right from the word GO. Trust me, this is not a show for the faint hearted or timid. This show pulls no punches with regards to drugs, sex or violence. Its is hardcore, in the classic use of the word.  It is called OZ as that is the nickname given to the Oswald Maximum Security State Penitentary. It focuses mainly on Emerald City, an experimental section of the prison where all the cells have glass fronts and face inwards, so privacy is not high on the agenda. Em City is home to many..Aryans, Muslims, gangstas, Latinos, Christians, Italians, Irish and more....so scuffles, death stares, dodgy dealings and shady agreements are never far away.  I would say the main appeal of the show is due to the fact that it goes where other shows wouldn't dare. Forget pretty pictures painted for mainstream audiences, forget charm, forget romance...OZ doesn't mess around. The first episode I ever saw struck me as so nasty it was surreal, I couldn't say I was ready for it, but as I watched more, I developed a taste for Oz, and got accustomed to the high levels of graphic violence. Not just violence, but injustice (crooked guards who'll be sold out for a nickel, inmates who'll kill on order and get away with it, well mannered, middle class inmates being turned into prison bitches due to their lack of street skills or prison experience) Watching Oz, you may become comfortable with what is uncomfortable viewing....thats if you can get in touch with your darker side.\""
      ]
     },
     "execution_count": 10,
     "metadata": {},
     "output_type": "execute_result"
    }
   ],
   "source": [
    "#1. Remove HTML tags\n",
    "#Regex rule : \"<.*?>\"\n",
    "\n",
    "import re #For regex\n",
    "\n",
    "def clean(text):\n",
    "    cleaned = re.compile(r\"<.*?>\")\n",
    "    return re.sub(cleaned,\" \",text)     #Substring replace with \" \"(space)\n",
    "\n",
    "data.review = data.review.apply(clean)\n",
    "data.review[0]"
   ]
  },
  {
   "cell_type": "code",
   "execution_count": 11,
   "metadata": {},
   "outputs": [
    {
     "data": {
      "text/plain": [
       "'One of the other reviewers has mentioned that after watching just 1 Oz episode you ll be hooked  They are right  as this is exactly what happened with me   The first thing that struck me about Oz was its brutality and unflinching scenes of violence  which set in right from the word GO  Trust me  this is not a show for the faint hearted or timid  This show pulls no punches with regards to drugs  sex or violence  Its is hardcore  in the classic use of the word   It is called OZ as that is the nickname given to the Oswald Maximum Security State Penitentary  It focuses mainly on Emerald City  an experimental section of the prison where all the cells have glass fronts and face inwards  so privacy is not high on the agenda  Em City is home to many  Aryans  Muslims  gangstas  Latinos  Christians  Italians  Irish and more    so scuffles  death stares  dodgy dealings and shady agreements are never far away   I would say the main appeal of the show is due to the fact that it goes where other shows wouldn t dare  Forget pretty pictures painted for mainstream audiences  forget charm  forget romance   OZ doesn t mess around  The first episode I ever saw struck me as so nasty it was surreal  I couldn t say I was ready for it  but as I watched more  I developed a taste for Oz  and got accustomed to the high levels of graphic violence  Not just violence  but injustice  crooked guards who ll be sold out for a nickel  inmates who ll kill on order and get away with it  well mannered  middle class inmates being turned into prison bitches due to their lack of street skills or prison experience  Watching Oz  you may become comfortable with what is uncomfortable viewing    thats if you can get in touch with your darker side '"
      ]
     },
     "execution_count": 11,
     "metadata": {},
     "output_type": "execute_result"
    }
   ],
   "source": [
    "#2. Remove special characters like punctuation\n",
    "# We can use string.punctuation or manually\n",
    "\n",
    "def is_special(text):\n",
    "    empty = ''\n",
    "    for i in text:\n",
    "        if i.isalnum():\n",
    "            empty = empty + i\n",
    "        else:\n",
    "            empty = empty + ' '\n",
    "    return empty\n",
    "\n",
    "data.review = data.review.apply(is_special)\n",
    "data.review[0]"
   ]
  },
  {
   "cell_type": "code",
   "execution_count": 12,
   "metadata": {},
   "outputs": [
    {
     "data": {
      "text/plain": [
       "'one of the other reviewers has mentioned that after watching just 1 oz episode you ll be hooked  they are right  as this is exactly what happened with me   the first thing that struck me about oz was its brutality and unflinching scenes of violence  which set in right from the word go  trust me  this is not a show for the faint hearted or timid  this show pulls no punches with regards to drugs  sex or violence  its is hardcore  in the classic use of the word   it is called oz as that is the nickname given to the oswald maximum security state penitentary  it focuses mainly on emerald city  an experimental section of the prison where all the cells have glass fronts and face inwards  so privacy is not high on the agenda  em city is home to many  aryans  muslims  gangstas  latinos  christians  italians  irish and more    so scuffles  death stares  dodgy dealings and shady agreements are never far away   i would say the main appeal of the show is due to the fact that it goes where other shows wouldn t dare  forget pretty pictures painted for mainstream audiences  forget charm  forget romance   oz doesn t mess around  the first episode i ever saw struck me as so nasty it was surreal  i couldn t say i was ready for it  but as i watched more  i developed a taste for oz  and got accustomed to the high levels of graphic violence  not just violence  but injustice  crooked guards who ll be sold out for a nickel  inmates who ll kill on order and get away with it  well mannered  middle class inmates being turned into prison bitches due to their lack of street skills or prison experience  watching oz  you may become comfortable with what is uncomfortable viewing    thats if you can get in touch with your darker side '"
      ]
     },
     "execution_count": 12,
     "metadata": {},
     "output_type": "execute_result"
    }
   ],
   "source": [
    "#3. Convert everything to Lowercase\n",
    "def lower(text):\n",
    "    return text.lower()\n",
    "\n",
    "data.review = data.review.apply(lower)\n",
    "data.review[0]"
   ]
  },
  {
   "cell_type": "code",
   "execution_count": 13,
   "metadata": {},
   "outputs": [
    {
     "data": {
      "text/plain": [
       "['one',\n",
       " 'reviewers',\n",
       " 'mentioned',\n",
       " 'watching',\n",
       " '1',\n",
       " 'oz',\n",
       " 'episode',\n",
       " 'hooked',\n",
       " 'right',\n",
       " 'exactly',\n",
       " 'happened',\n",
       " 'first',\n",
       " 'thing',\n",
       " 'struck',\n",
       " 'oz',\n",
       " 'brutality',\n",
       " 'unflinching',\n",
       " 'scenes',\n",
       " 'violence',\n",
       " 'set',\n",
       " 'right',\n",
       " 'word',\n",
       " 'go',\n",
       " 'trust',\n",
       " 'show',\n",
       " 'faint',\n",
       " 'hearted',\n",
       " 'timid',\n",
       " 'show',\n",
       " 'pulls',\n",
       " 'punches',\n",
       " 'regards',\n",
       " 'drugs',\n",
       " 'sex',\n",
       " 'violence',\n",
       " 'hardcore',\n",
       " 'classic',\n",
       " 'use',\n",
       " 'word',\n",
       " 'called',\n",
       " 'oz',\n",
       " 'nickname',\n",
       " 'given',\n",
       " 'oswald',\n",
       " 'maximum',\n",
       " 'security',\n",
       " 'state',\n",
       " 'penitentary',\n",
       " 'focuses',\n",
       " 'mainly',\n",
       " 'emerald',\n",
       " 'city',\n",
       " 'experimental',\n",
       " 'section',\n",
       " 'prison',\n",
       " 'cells',\n",
       " 'glass',\n",
       " 'fronts',\n",
       " 'face',\n",
       " 'inwards',\n",
       " 'privacy',\n",
       " 'high',\n",
       " 'agenda',\n",
       " 'em',\n",
       " 'city',\n",
       " 'home',\n",
       " 'many',\n",
       " 'aryans',\n",
       " 'muslims',\n",
       " 'gangstas',\n",
       " 'latinos',\n",
       " 'christians',\n",
       " 'italians',\n",
       " 'irish',\n",
       " 'scuffles',\n",
       " 'death',\n",
       " 'stares',\n",
       " 'dodgy',\n",
       " 'dealings',\n",
       " 'shady',\n",
       " 'agreements',\n",
       " 'never',\n",
       " 'far',\n",
       " 'away',\n",
       " 'would',\n",
       " 'say',\n",
       " 'main',\n",
       " 'appeal',\n",
       " 'show',\n",
       " 'due',\n",
       " 'fact',\n",
       " 'goes',\n",
       " 'shows',\n",
       " 'dare',\n",
       " 'forget',\n",
       " 'pretty',\n",
       " 'pictures',\n",
       " 'painted',\n",
       " 'mainstream',\n",
       " 'audiences',\n",
       " 'forget',\n",
       " 'charm',\n",
       " 'forget',\n",
       " 'romance',\n",
       " 'oz',\n",
       " 'mess',\n",
       " 'around',\n",
       " 'first',\n",
       " 'episode',\n",
       " 'ever',\n",
       " 'saw',\n",
       " 'struck',\n",
       " 'nasty',\n",
       " 'surreal',\n",
       " 'say',\n",
       " 'ready',\n",
       " 'watched',\n",
       " 'developed',\n",
       " 'taste',\n",
       " 'oz',\n",
       " 'got',\n",
       " 'accustomed',\n",
       " 'high',\n",
       " 'levels',\n",
       " 'graphic',\n",
       " 'violence',\n",
       " 'violence',\n",
       " 'injustice',\n",
       " 'crooked',\n",
       " 'guards',\n",
       " 'sold',\n",
       " 'nickel',\n",
       " 'inmates',\n",
       " 'kill',\n",
       " 'order',\n",
       " 'get',\n",
       " 'away',\n",
       " 'well',\n",
       " 'mannered',\n",
       " 'middle',\n",
       " 'class',\n",
       " 'inmates',\n",
       " 'turned',\n",
       " 'prison',\n",
       " 'bitches',\n",
       " 'due',\n",
       " 'lack',\n",
       " 'street',\n",
       " 'skills',\n",
       " 'prison',\n",
       " 'experience',\n",
       " 'watching',\n",
       " 'oz',\n",
       " 'may',\n",
       " 'become',\n",
       " 'comfortable',\n",
       " 'uncomfortable',\n",
       " 'viewing',\n",
       " 'thats',\n",
       " 'get',\n",
       " 'touch',\n",
       " 'darker',\n",
       " 'side']"
      ]
     },
     "execution_count": 13,
     "metadata": {},
     "output_type": "execute_result"
    }
   ],
   "source": [
    "#4. Removing the stopwords\n",
    "from nltk.corpus import stopwords  #For stopwords\n",
    "from nltk.tokenize import word_tokenize\n",
    "\n",
    "def remove_stopwords(text):\n",
    "    stop_words = set(stopwords.words('english'))\n",
    "    words = word_tokenize(text)\n",
    "    return [w for w in words if w not in stop_words]\n",
    "\n",
    "data.review = data.review.apply(remove_stopwords)\n",
    "data.review[0]"
   ]
  },
  {
   "cell_type": "code",
   "execution_count": 14,
   "metadata": {},
   "outputs": [
    {
     "data": {
      "text/plain": [
       "'one review mention watch 1 oz episod hook right exact happen first thing struck oz brutal unflinch scene violenc set right word go trust show faint heart timid show pull punch regard drug sex violenc hardcor classic use word call oz nicknam given oswald maximum secur state penitentari focus main emerald citi experiment section prison cell glass front face inward privaci high agenda em citi home mani aryan muslim gangsta latino christian italian irish scuffl death stare dodgi deal shadi agreement never far away would say main appeal show due fact goe show dare forget pretti pictur paint mainstream audienc forget charm forget romanc oz mess around first episod ever saw struck nasti surreal say readi watch develop tast oz got accustom high level graphic violenc violenc injustic crook guard sold nickel inmat kill order get away well manner middl class inmat turn prison bitch due lack street skill prison experi watch oz may becom comfort uncomfort view that get touch darker side'"
      ]
     },
     "execution_count": 14,
     "metadata": {},
     "output_type": "execute_result"
    }
   ],
   "source": [
    "#5. Stemming\n",
    "from nltk.stem import SnowballStemmer\n",
    "\n",
    "def stem_text(text):\n",
    "    snowball = SnowballStemmer('english')\n",
    "    return \" \".join([snowball.stem(w) for w in text])\n",
    "\n",
    "data.review = data.review.apply(stem_text)\n",
    "data.review[0]"
   ]
  },
  {
   "cell_type": "markdown",
   "metadata": {},
   "source": [
    "## Creating the Model"
   ]
  },
  {
   "cell_type": "code",
   "execution_count": 15,
   "metadata": {},
   "outputs": [
    {
     "data": {
      "text/html": [
       "<div>\n",
       "<style scoped>\n",
       "    .dataframe tbody tr th:only-of-type {\n",
       "        vertical-align: middle;\n",
       "    }\n",
       "\n",
       "    .dataframe tbody tr th {\n",
       "        vertical-align: top;\n",
       "    }\n",
       "\n",
       "    .dataframe thead th {\n",
       "        text-align: right;\n",
       "    }\n",
       "</style>\n",
       "<table border=\"1\" class=\"dataframe\">\n",
       "  <thead>\n",
       "    <tr style=\"text-align: right;\">\n",
       "      <th></th>\n",
       "      <th>review</th>\n",
       "      <th>sentiment</th>\n",
       "    </tr>\n",
       "  </thead>\n",
       "  <tbody>\n",
       "    <tr>\n",
       "      <th>0</th>\n",
       "      <td>one review mention watch 1 oz episod hook righ...</td>\n",
       "      <td>1</td>\n",
       "    </tr>\n",
       "    <tr>\n",
       "      <th>1</th>\n",
       "      <td>wonder littl product film techniqu unassum old...</td>\n",
       "      <td>1</td>\n",
       "    </tr>\n",
       "    <tr>\n",
       "      <th>2</th>\n",
       "      <td>thought wonder way spend time hot summer weeke...</td>\n",
       "      <td>1</td>\n",
       "    </tr>\n",
       "    <tr>\n",
       "      <th>3</th>\n",
       "      <td>basic famili littl boy jake think zombi closet...</td>\n",
       "      <td>0</td>\n",
       "    </tr>\n",
       "    <tr>\n",
       "      <th>4</th>\n",
       "      <td>petter mattei love time money visual stun film...</td>\n",
       "      <td>1</td>\n",
       "    </tr>\n",
       "  </tbody>\n",
       "</table>\n",
       "</div>"
      ],
      "text/plain": [
       "                                              review  sentiment\n",
       "0  one review mention watch 1 oz episod hook righ...          1\n",
       "1  wonder littl product film techniqu unassum old...          1\n",
       "2  thought wonder way spend time hot summer weeke...          1\n",
       "3  basic famili littl boy jake think zombi closet...          0\n",
       "4  petter mattei love time money visual stun film...          1"
      ]
     },
     "execution_count": 15,
     "metadata": {},
     "output_type": "execute_result"
    }
   ],
   "source": [
    "data.head()"
   ]
  },
  {
   "cell_type": "code",
   "execution_count": 16,
   "metadata": {},
   "outputs": [],
   "source": [
    "#Seprating the attributes\n",
    "X = np.array(data.iloc[:,0].values)\n",
    "Y = np.array(data.sentiment.values)"
   ]
  },
  {
   "cell_type": "code",
   "execution_count": 17,
   "metadata": {},
   "outputs": [
    {
     "name": "stdout",
     "output_type": "stream",
     "text": [
      "(50000,) (50000,)\n"
     ]
    }
   ],
   "source": [
    "print(X.shape,Y.shape)"
   ]
  },
  {
   "cell_type": "code",
   "execution_count": 18,
   "metadata": {},
   "outputs": [],
   "source": [
    "#1. Creating Bag of Words (BOW)\n",
    "#max_featuresint, default=None\n",
    "# If not None, build a vocabulary that only consider the top max_features ordered by term frequency across the corpus.\n",
    "\n",
    "from sklearn.feature_extraction.text import CountVectorizer\n",
    "cv = CountVectorizer(max_features = 1000)   # We take only thousand features to stored in a dictionary"
   ]
  },
  {
   "cell_type": "code",
   "execution_count": 19,
   "metadata": {},
   "outputs": [
    {
     "name": "stdout",
     "output_type": "stream",
     "text": [
      "X.shape =  (50000, 1000)\n",
      "Y.shape =  (50000,)\n"
     ]
    }
   ],
   "source": [
    "X = cv.fit_transform(data.review).toarray()\n",
    "print(\"X.shape = \",X.shape)\n",
    "print(\"Y.shape = \",Y.shape)"
   ]
  },
  {
   "cell_type": "code",
   "execution_count": 20,
   "metadata": {},
   "outputs": [
    {
     "name": "stdout",
     "output_type": "stream",
     "text": [
      "Vocabulary: \n",
      "{'one': 612, 'review': 722, 'mention': 555, 'watch': 955, 'episod': 282, 'right': 727, 'exact': 296, 'happen': 403, 'first': 345, 'thing': 882, 'scene': 745, 'violenc': 945, 'set': 769, 'word': 982, 'go': 386, 'show': 779, 'heart': 411, 'pull': 682, 'drug': 256, 'sex': 771, 'classic': 151, 'use': 932, 'call': 116, 'given': 385, 'state': 827, 'focus': 352, 'main': 529, 'citi': 148, 'prison': 672, 'front': 366, 'face': 310, 'high': 415, 'home': 423, 'mani': 536, 'italian': 462, 'death': 214, 'deal': 213, 'never': 588, 'far': 322, 'away': 72, 'would': 988, 'say': 742, 'appeal': 52, 'due': 257, 'fact': 311, 'goe': 388, 'forget': 356, 'pretti': 670, 'pictur': 643, 'audienc': 67, 'charm': 138, 'romanc': 733, 'mess': 556, 'around': 56, 'ever': 291, 'saw': 741, 'develop': 230, 'tast': 869, 'got': 392, 'level': 504, 'kill': 477, 'order': 615, 'get': 380, 'well': 962, 'manner': 537, 'middl': 559, 'class': 150, 'turn': 916, 'lack': 485, 'street': 840, 'skill': 793, 'experi': 304, 'may': 546, 'becom': 85, 'view': 942, 'touch': 902, 'side': 782, 'wonder': 980, 'littl': 514, 'product': 676, 'film': 338, 'old': 610, 'time': 891, 'fashion': 324, 'give': 384, 'sometim': 804, 'sens': 763, 'entir': 281, 'piec': 644, 'actor': 13, 'extrem': 308, 'michael': 558, 'voic': 948, 'truli': 914, 'see': 759, 'edit': 267, 'refer': 706, 'william': 972, 'worth': 987, 'written': 991, 'perform': 636, 'master': 541, 'great': 393, 'comedi': 163, 'life': 506, 'realli': 700, 'come': 162, 'fantasi': 320, 'rather': 693, 'dream': 252, 'remain': 710, 'play': 648, 'particular': 628, 'concern': 172, 'flat': 348, 'everi': 292, 'terribl': 878, 'done': 245, 'thought': 886, 'way': 957, 'spend': 817, 'hot': 428, 'sit': 791, 'air': 25, 'theater': 880, 'light': 507, 'plot': 652, 'dialogu': 232, 'charact': 137, 'even': 288, 'killer': 478, 'disappoint': 238, 'realiz': 699, 'match': 543, 'point': 654, 'still': 833, 'control': 179, 'style': 848, 'us': 931, 'love': 523, 'laugh': 494, 'year': 994, 'impress': 443, 'manag': 535, 'tone': 897, 'imag': 438, 'jump': 472, 'averag': 68, 'spirit': 819, 'young': 998, 'woman': 978, 'career': 123, 'wear': 959, 'interest': 456, 'friend': 365, 'basic': 80, 'famili': 316, 'boy': 103, 'think': 883, 'zombi': 999, 'parent': 624, 'fight': 335, 'movi': 575, 'sudden': 852, 'decid': 216, 'ok': 608, 'make': 531, 'must': 580, 'thriller': 888, 'drama': 250, 'like': 508, 'real': 696, 'total': 901, 'ruin': 736, 'expect': 303, 'similar': 784, 'instead': 452, 'spot': 821, '10': 0, 'dialog': 231, 'shot': 778, 'ignor': 437, 'money': 569, 'visual': 947, 'stun': 846, 'mr': 576, 'offer': 604, 'human': 433, 'relat': 707, 'seem': 760, 'tell': 874, 'power': 666, 'success': 850, 'peopl': 634, 'differ': 234, 'situat': 792, 'theme': 881, 'director': 237, 'action': 12, 'present': 669, 'new': 589, 'york': 997, 'meet': 550, 'connect': 174, 'anoth': 44, 'next': 590, 'person': 639, 'know': 482, 'previous': 671, 'look': 519, 'taken': 865, 'live': 515, 'world': 984, 'soul': 811, 'stage': 822, 'big': 92, 'best': 89, 'place': 645, 'find': 341, 'case': 126, 'act': 11, 'good': 390, 'direct': 236, 'rest': 718, 'talent': 867, 'cast': 127, 'wish': 974, 'work': 983, 'probabl': 673, 'favorit': 327, 'stori': 836, 'caus': 131, 'bore': 100, 'despit': 227, 'seen': 761, 'last': 491, 'paul': 632, 'bring': 107, 'eye': 309, 'role': 731, 'delight': 219, 'kid': 476, 'dress': 253, 'children': 144, 'fun': 368, 'mother': 573, 'slow': 796, 'believ': 88, 'sure': 859, 'date': 207, 'seri': 766, 'today': 893, 'back': 74, 'excit': 300, 'black': 95, 'white': 967, 'tv': 917, 'hero': 414, 'week': 960, 'need': 587, 'chang': 135, 'pace': 622, 'water': 956, 'adventur': 21, 'oh': 607, 'thank': 879, 'nice': 591, 'read': 695, 'plus': 653, 'line': 510, 'let': 503, 'leav': 499, 'doubt': 247, 'quit': 689, 'amaz': 35, 'idea': 436, 'brilliant': 106, 'drop': 255, 'funni': 369, 'continu': 178, 'complet': 169, 'wast': 954, 'write': 989, 'pain': 623, 'bad': 76, 'almost': 28, 'entertain': 280, 'hard': 405, 'hand': 402, 'origin': 616, 'also': 32, 'band': 77, 'follow': 353, 'fit': 346, 'felt': 331, 'star': 825, 'respect': 716, 'made': 527, 'huge': 432, 'aw': 70, 'posit': 662, 'comment': 165, 'forward': 359, 'mistak': 565, 'worst': 986, 'storylin': 837, 'soundtrack': 813, 'song': 807, 'lame': 487, 'countri': 186, 'less': 502, 'four': 361, 'cheap': 140, 'rare': 691, 'happi': 404, 'end': 275, 'credit': 194, 'score': 749, 'least': 498, 'bit': 94, 'effort': 269, 'hell': 412, 'camp': 119, 'alien': 26, 'base': 79, 'odd': 603, 'everyth': 294, 'actual': 15, 'joke': 470, 'low': 525, 'budget': 111, 'problem': 674, 'eventu': 290, 'lost': 521, 'imagin': 439, 'someth': 803, 'better': 90, 'tri': 910, 'brother': 109, 'came': 117, 'eat': 266, 'men': 554, 'horror': 427, 'cheesi': 142, 'monster': 570, 'type': 920, 'usual': 933, 'includ': 444, 'beauti': 83, 'might': 560, 'daughter': 208, 'die': 233, 'care': 122, 'much': 577, 'romant': 734, 'predict': 667, 'humor': 434, 'later': 493, 'earli': 261, 'took': 898, 'notic': 598, 'sinc': 787, 'scari': 744, 'possibl': 663, 'fan': 319, 'enjoy': 278, 'mayb': 547, 'appar': 51, 'cri': 197, 'long': 518, 'ago': 23, 'game': 371, 'secret': 758, 'locat': 517, 'island': 460, 'warn': 953, 'togeth': 894, 'along': 30, 'feel': 330, 'three': 887, 'player': 649, 'name': 582, 'self': 762, 'tale': 866, 'jack': 463, 'yes': 995, 'german': 379, 'howev': 431, 'stay': 828, 'true': 913, 'whole': 968, 'kick': 475, 'beyond': 91, 'evil': 295, 'mad': 526, 'dr': 248, 'soldier': 800, 'top': 899, 'remind': 713, 'spoiler': 820, 'reason': 701, 'rich': 723, 'wood': 981, 'gone': 389, 'start': 826, 'deliv': 220, 'mean': 548, 'suck': 851, 'take': 864, 'annoy': 43, 'shoot': 776, 'minut': 563, 'screen': 752, 'appreci': 54, 'certain': 133, 'era': 284, 'perfect': 635, 'ten': 875, 'english': 277, 'keep': 473, 'cut': 202, 'fantast': 321, 'famous': 318, 'georg': 378, 'roll': 732, 'man': 534, 'constant': 176, 'kind': 479, 'unbeliev': 923, 'sort': 810, 'school': 746, 'project': 677, 'suppos': 858, 'town': 904, 'involv': 459, 'learn': 497, 'ridicul': 726, 'lot': 522, 'intrigu': 457, 'relationship': 708, 'danc': 204, 'stereotyp': 831, 'pass': 629, 'million': 561, 'could': 185, 'spent': 818, 'simpli': 786, 'fail': 312, 'captur': 120, 'titl': 892, 'excel': 298, 'alway': 34, 'hold': 420, 'except': 299, 'major': 530, 'version': 939, 'attempt': 64, 'earlier': 262, 'special': 816, 'effect': 268, 'older': 611, 'horribl': 426, 'chanc': 134, 'busi': 114, 'run': 737, 'emot': 274, 'want': 951, 'destroy': 228, 'war': 952, 'exampl': 297, 'ghost': 381, 'final': 340, 'begin': 86, 'attack': 63, 'return': 720, 'king': 480, 'victim': 940, 'wait': 949, 'someon': 802, 'adult': 20, 'either': 270, 'save': 740, 'rememb': 712, 'cinema': 146, 'dark': 206, 'sister': 790, 'appear': 53, 'anyon': 47, 'dvd': 260, 'etc': 287, 'pleas': 650, 'shame': 773, '20': 1, 'hear': 409, 'other': 618, 'femal': 332, 'fine': 342, 'artist': 59, 'dull': 258, 'script': 754, 'enough': 279, 'coupl': 187, 'hour': 429, 'sequel': 764, 'surpris': 860, 'wrong': 992, 'guy': 399, 'concept': 171, 'stop': 834, 'especi': 286, 'express': 306, 'full': 367, 'plenti': 651, 'john': 469, 'box': 102, 'frank': 362, 'girl': 382, 'former': 358, 'help': 413, 'aspect': 61, 'sequenc': 765, 'fake': 314, 'amus': 40, 'toward': 903, 'women': 979, 'utter': 934, 'weird': 961, 'costum': 184, 'absolut': 6, 'carri': 124, 'although': 33, 'anyth': 48, 'music': 579, 'grow': 396, 'heard': 410, 'straight': 838, 'anim': 41, 'matter': 545, 'sever': 770, 'hilari': 416, 'move': 574, 'wors': 985, 'bunch': 113, 'kept': 474, 'surviv': 861, 'pick': 642, 'season': 756, 'honest': 424, 'bare': 78, 'plan': 647, 'night': 592, 'stupid': 847, 'unless': 928, 'amount': 39, 'known': 483, 'actress': 14, 'part': 626, 'allow': 27, 'judg': 471, 'depth': 222, 'cop': 182, 'video': 941, 'standard': 824, 'complex': 170, 'though': 885, 'detail': 229, 'portray': 661, 'dumb': 259, 'job': 467, 'unfortun': 925, 'rate': 692, 'masterpiec': 542, 'trip': 911, 'mind': 562, 'achiev': 9, 'fall': 315, 'creat': 192, 'poor': 658, 'critic': 199, 'miss': 564, 'futur': 370, 'hope': 425, 'open': 613, 'door': 246, 'talk': 868, 'insid': 450, 'agre': 24, 'genr': 377, 'depict': 221, 'twist': 918, 'physic': 641, 'noth': 597, 'fascin': 323, 'mysteri': 581, 'subject': 849, 'explain': 305, 'brain': 104, 'lie': 505, 'guess': 397, 'realiti': 698, 'design': 225, 'oscar': 617, 'cinematographi': 147, 'repeat': 715, 'els': 272, 'walk': 950, 'pop': 659, 'crazi': 191, 'member': 551, 'polit': 657, 'hollywood': 422, 'valu': 935, 'list': 511, 'behind': 87, 'exist': 302, 'serious': 767, 'abl': 5, 'stand': 823, 'america': 36, 'hate': 407, 'typic': 921, 'speak': 815, 'respons': 717, 'larg': 490, 'cold': 157, 'law': 495, 'liter': 513, 'quick': 688, 'battl': 81, 'put': 685, 'period': 638, 'equal': 283, 'left': 501, 'inde': 446, 'somewhat': 805, 'soon': 808, 'potenti': 665, 'confus': 173, 'cultur': 201, 'prove': 679, 'cours': 188, 'perhap': 637, 'import': 442, 'brought': 110, 'upon': 930, 'within': 976, 'two': 919, 'disturb': 241, 'father': 326, 'troubl': 912, 'most': 572, 'anti': 46, 'messag': 557, 'accent': 7, 'land': 488, 'past': 630, 'centuri': 132, 'atmospher': 62, 'form': 357, 'natur': 585, 'inspir': 451, 'uniqu': 926, 'apart': 50, 'desper': 226, 'suspens': 862, 'unlik': 929, 'compani': 167, 'robert': 729, 'beat': 82, 'polic': 656, 'second': 757, 'third': 884, 'close': 155, 'male': 533, 'sad': 738, 'small': 797, 'memor': 552, 'engag': 276, 'limit': 509, 'novel': 599, 'richard': 724, 'gay': 374, 'murder': 578, 'studio': 844, 'general': 375, 'girlfriend': 383, 'question': 687, 'whether': 966, 'generat': 376, 'indian': 447, 'hit': 419, 'lead': 496, 'approach': 55, 'various': 938, 'offic': 605, 'describ': 223, 'blood': 96, 'suffer': 853, 'immedi': 441, 'crime': 198, 'result': 719, 'room': 735, 'break': 105, 'hous': 430, 'short': 777, 'hair': 400, 'moment': 568, 'among': 38, 'babi': 73, 'qualiti': 686, 'alon': 29, 'dead': 212, 'ultim': 922, 'ad': 16, 'promis': 678, 'non': 593, 'age': 22, 'introduc': 458, 'yet': 996, 'normal': 595, 'without': 977, 'fear': 328, 'caught': 130, 'truth': 915, 'told': 895, 'accept': 8, 'half': 401, 'reveal': 721, 'day': 210, 'treat': 909, 'releas': 709, 'element': 271, 'deep': 217, 'memori': 553, 'provid': 680, 'singl': 789, 'produc': 675, 'la': 484, 'build': 112, 'tension': 876, 'fast': 325, 'gave': 373, 'anyway': 49, 'avoid': 69, 'sound': 812, 'drag': 249, 'cute': 203, 'sweet': 863, 'languag': 489, 'nuditi': 600, 'listen': 512, 'televis': 873, 'rent': 714, 'teenag': 872, 'pure': 683, 'number': 601, 'teen': 871, 'strang': 839, 'serv': 768, 'purpos': 684, 'suggest': 854, 'throughout': 889, 'add': 18, '80': 3, 'obvious': 602, 'struggl': 842, 'figur': 336, 'okay': 609, 'david': 209, 'ride': 725, 'greatest': 394, 'writer': 990, 'husband': 435, 'steal': 829, 'whatev': 965, 'clear': 152, 'camera': 118, 'child': 143, 'creepi': 195, 'cliché': 154, 'went': 963, 'mix': 566, 'jame': 464, 'recommend': 703, 'book': 99, 'issu': 461, 'race': 690, 'background': 75, 'doctor': 242, 'cover': 189, 'lover': 524, 'consid': 175, 'local': 516, 'gun': 398, 'drive': 254, 'god': 387, 'filmmak': 339, 'event': 289, 'gang': 372, 'contain': 177, 'american': 37, 'car': 121, 'note': 596, 'compar': 168, 'sing': 788, 'common': 166, 'opinion': 614, 'whose': 969, 'support': 857, 'mari': 538, 'histor': 417, 'earth': 263, 'stuff': 845, 'public': 681, 'near': 586, 'late': 492, 'screenplay': 753, 'imdb': 440, 'narrat': 583, 'tom': 896, 'head': 408, 'wife': 970, 'flaw': 349, 'marri': 540, 'lose': 520, 'shock': 775, 'son': 806, 'train': 906, 'social': 798, 'weak': 958, 'western': 964, 'simpl': 785, 'art': 58, 'premis': 668, 'none': 594, 'flick': 351, 'familiar': 317, 'innoc': 449, 'fire': 344, 'forc': 355, 'french': 364, 'alreadi': 31, 'discov': 239, 'violent': 946, 'knew': 481, 'abil': 4, 'found': 360, 'execut': 301, 'admit': 19, 'track': 905, 'bodi': 98, 'sleep': 794, 'ask': 60, 'space': 814, 'nation': 584, 'post': 664, 'deserv': 224, 'shown': 780, 'difficult': 235, 'documentari': 243, 'mark': 539, 'viewer': 943, 'fair': 313, 'extra': 307, 'group': 395, 'fli': 350, 'pointless': 655, 'gore': 391, 'decent': 215, 'outsid': 620, 'british': 108, 'often': 606, 'wit': 975, 'co': 156, 'popular': 660, 'ladi': 486, 'joe': 468, 'incred': 445, 'attract': 66, 'clever': 153, 'villain': 944, 'store': 835, 'sick': 781, 'convinc': 180, 'term': 877, 'five': 347, 'award': 71, 'peter': 640, 'adapt': 17, 'intent': 455, 'moral': 571, 'easili': 265, 'remak': 711, 'silli': 783, 'tortur': 900, 'color': 160, 'strong': 841, 'check': 141, 'share': 774, 'materi': 544, 'bother': 101, 'definit': 218, 'free': 363, 'magic': 528, 'creatur': 193, 'easi': 264, 'otherwis': 619, 'crap': 190, 'slight': 795, 'everyon': 293, 'sorri': 809, 'harri': 406, 'throw': 890, 'student': 843, 'hole': 421, 'bill': 93, 'suit': 855, 'understand': 924, 'overal': 621, 'featur': 329, 'across': 10, 'pathet': 631, 'reach': 694, '30': 2, 'win': 973, 'colleg': 159, 'rip': 728, 'de': 211, 'lee': 500, 'modern': 567, 'japanes': 466, 'dog': 244, 'team': 870, 'cool': 181, 'stick': 832, 'comic': 164, 'record': 704, 'univers': 927, 'intens': 454, 'fill': 337, 'danger': 205, 'fiction': 334, 'finish': 343, 'realist': 697, 'dramat': 251, 'rock': 730, 'said': 739, 'scare': 743, 'arriv': 57, 'becam': 84, 'cross': 200, 'pay': 633, 'red': 705, 'plain': 646, 'travel': 908, 'superb': 856, 'cartoon': 125, 'van': 937, 'buy': 115, 'disney': 240, 'wild': 971, 'trash': 907, 'meant': 549, 'claim': 149, 'answer': 45, 'crew': 196, 'histori': 418, 'jane': 465, 'copi': 183, 'wrote': 993, 'chase': 139, 'choic': 145, 'footag': 354, 'collect': 158, 'blue': 97, 'cat': 128, 'sci': 747, 'fi': 333, 'sexual': 772, 'escap': 285, 'somehow': 801, 'embarrass': 273, 'scream': 751, 'attent': 65, 'step': 830, 'societi': 799, 'recent': 702, 'catch': 129, 'combin': 161, 'parti': 627, 'park': 625, 'intellig': 453, 'scienc': 748, 'search': 755, 'inform': 448, 'ann': 42, 'vampir': 936, 'maker': 532, 'channel': 136, 'scott': 750}\n",
      "\n"
     ]
    }
   ],
   "source": [
    "# Let's look at the vocabulary:\n",
    "# We can inspect how our vectorizer vectorized the text\n",
    "# This will print out a list of words used, and their index in the vectors\n",
    "#For this we can see all our thousand features in form of dictionary\n",
    "#By using this we can understand that if any new data comes in we can check that new data comes in this vocab or not.\n",
    "print('Vocabulary: ')\n",
    "print(cv.vocabulary_)\n",
    "print()"
   ]
  },
  {
   "cell_type": "code",
   "execution_count": 21,
   "metadata": {},
   "outputs": [
    {
     "name": "stdout",
     "output_type": "stream",
     "text": [
      "[[0 0 0 ... 0 0 0]\n",
      " [0 0 0 ... 0 0 0]\n",
      " [0 0 0 ... 0 1 0]\n",
      " ...\n",
      " [0 0 0 ... 0 0 0]\n",
      " [0 0 1 ... 0 0 0]\n",
      " [0 0 0 ... 0 0 0]]\n"
     ]
    }
   ],
   "source": [
    "print(X)"
   ]
  },
  {
   "cell_type": "code",
   "execution_count": 22,
   "metadata": {},
   "outputs": [
    {
     "name": "stdout",
     "output_type": "stream",
     "text": [
      "Train shapes : X = (40000, 1000), y = (40000,)\n",
      "Test shapes : X = (10000, 1000), y = (10000,)\n"
     ]
    }
   ],
   "source": [
    "# 2. Train test split\n",
    "from sklearn.model_selection import train_test_split\n",
    "train_x,test_x,train_y,test_y = train_test_split(X,Y,test_size=0.2,random_state=9)\n",
    "print(\"Train shapes : X = {}, y = {}\".format(train_x.shape,train_y.shape))\n",
    "print(\"Test shapes : X = {}, y = {}\".format(test_x.shape,test_y.shape))"
   ]
  },
  {
   "cell_type": "code",
   "execution_count": 23,
   "metadata": {},
   "outputs": [
    {
     "data": {
      "text/plain": [
       "BernoulliNB()"
      ]
     },
     "execution_count": 23,
     "metadata": {},
     "output_type": "execute_result"
    }
   ],
   "source": [
    "# 3.Defining the modeland training them\n",
    "from sklearn.naive_bayes import GaussianNB, MultinomialNB, BernoulliNB\n",
    "\n",
    "gnb = GaussianNB()\n",
    "mnb = MultinomialNB(alpha= 1.0,fit_prior= True)\n",
    "bnb = BernoulliNB()\n",
    "\n",
    "gnb.fit(train_x,train_y)\n",
    "mnb.fit(train_x,train_y)\n",
    "bnb.fit(train_x,train_y)"
   ]
  },
  {
   "cell_type": "code",
   "execution_count": 24,
   "metadata": {},
   "outputs": [
    {
     "name": "stdout",
     "output_type": "stream",
     "text": [
      "Gaussian =  0.7846\n",
      "Mutlinomail =  0.8308\n",
      "Bernauli =  0.8388\n"
     ]
    }
   ],
   "source": [
    "# 4. Prediction and accuracy metrics to choose best model\n",
    "from sklearn.metrics import accuracy_score\n",
    "\n",
    "pred_gnb = gnb.predict(test_x)\n",
    "pred_mnb = mnb.predict(test_x)\n",
    "pred_bnb = bnb.predict(test_x)\n",
    "\n",
    "print(\"Gaussian = \", accuracy_score(test_y,pred_gnb))\n",
    "print(\"Mutlinomail = \", accuracy_score(test_y,pred_mnb))\n",
    "print(\"Bernauli = \", accuracy_score(test_y,pred_bnb))"
   ]
  },
  {
   "cell_type": "markdown",
   "metadata": {},
   "source": [
    "### Pickling data"
   ]
  },
  {
   "cell_type": "code",
   "execution_count": 25,
   "metadata": {},
   "outputs": [],
   "source": [
    "#Pickling the file\n",
    "#Saving the data\n",
    "import pickle\n",
    "f = open('model_1.pkl','wb')      # 'wb' instead 'w' for binary file  and f is our object\n",
    "pickle.dump(bnb,f,-1)             # -1 specifies highest binary protocol,bnb is our data and after that our file object\n",
    "f.close()"
   ]
  },
  {
   "cell_type": "code",
   "execution_count": 26,
   "metadata": {},
   "outputs": [],
   "source": [
    "#Unpickling the file\n",
    "#Loading the data\n",
    "#Optional step\n",
    "#f = open('model_1.pkl', 'rb')   # 'r' for reading; can be omitted\n",
    "#mydict = pickle.load(f)\n",
    "#f.close()\n",
    "#print(mydict)"
   ]
  },
  {
   "cell_type": "code",
   "execution_count": 27,
   "metadata": {},
   "outputs": [],
   "source": [
    "#Another way:\n",
    "#By using with file is automatically closed\n",
    "\n",
    "#with open('model_1.pkl','wb') as f:\n",
    "#    pickle.dump(bnb,f,-1)"
   ]
  },
  {
   "cell_type": "code",
   "execution_count": 28,
   "metadata": {},
   "outputs": [],
   "source": [
    "#with open('model_1.pkl','rb') as f:\n",
    "#    pickle.load(f)"
   ]
  },
  {
   "cell_type": "code",
   "execution_count": 29,
   "metadata": {},
   "outputs": [],
   "source": [
    "#print(f)"
   ]
  },
  {
   "cell_type": "markdown",
   "metadata": {},
   "source": [
    "### Testing the model"
   ]
  },
  {
   "cell_type": "code",
   "execution_count": 30,
   "metadata": {},
   "outputs": [
    {
     "name": "stdout",
     "output_type": "stream",
     "text": [
      "Terrible. Complete trash. Brainless tripe. Insulting to anyone who isn't an 8 year old fan boy. Im actually pretty disgusted that this movie is making the money it is - what does it say about the people who brainlessly hand over the hard earned cash to be 'entertained' in this fashion and then come here to leave a positive 8.8 review?? Oh yes, they are morons. Its the only sensible conclusion to draw. How anyone can rate this movie amongst the pantheon of great titles is beyond me.\n",
      "\n",
      "So trying to find something constructive to say about this title is hard...I enjoyed Iron Man? Tony Stark is an inspirational character in his own movies but here he is a pale shadow of that...About the only 'hook' this movie had into me was wondering when and if Iron Man would knock Captain America out...Oh how I wished he had :( What were these other characters anyways? Useless, bickering idiots who really couldn't organise happy times in a brewery. The film was a chaotic mish mash of action elements and failed 'set pieces'...\n",
      "\n",
      "I found the villain to be quite amusing.\n",
      "\n",
      "And now I give up. This movie is not robbing any more of my time but I felt I ought to contribute to restoring the obvious fake rating and reviews this movie has been getting on IMDb.\n"
     ]
    }
   ],
   "source": [
    "review =  \"\"\"Terrible. Complete trash. Brainless tripe. Insulting to anyone who isn't an 8 year old fan boy. Im actually pretty disgusted that this movie is making the money it is - what does it say about the people who brainlessly hand over the hard earned cash to be 'entertained' in this fashion and then come here to leave a positive 8.8 review?? Oh yes, they are morons. Its the only sensible conclusion to draw. How anyone can rate this movie amongst the pantheon of great titles is beyond me.\n",
    "\n",
    "So trying to find something constructive to say about this title is hard...I enjoyed Iron Man? Tony Stark is an inspirational character in his own movies but here he is a pale shadow of that...About the only 'hook' this movie had into me was wondering when and if Iron Man would knock Captain America out...Oh how I wished he had :( What were these other characters anyways? Useless, bickering idiots who really couldn't organise happy times in a brewery. The film was a chaotic mish mash of action elements and failed 'set pieces'...\n",
    "\n",
    "I found the villain to be quite amusing.\n",
    "\n",
    "And now I give up. This movie is not robbing any more of my time but I felt I ought to contribute to restoring the obvious fake rating and reviews this movie has been getting on IMDb.\"\"\"\n",
    "\n",
    "print(review)"
   ]
  },
  {
   "cell_type": "code",
   "execution_count": 31,
   "metadata": {},
   "outputs": [],
   "source": [
    "#CLeaning steps via calling our function\n",
    "\n",
    "# 1.Removing HTML tags\n",
    "data_clean = clean(review)\n",
    "\n",
    "#2.Removing Special Characters\n",
    "spl_char_removal = is_special(data_clean)\n",
    "\n",
    "#3.Convert into lower case\n",
    "lower_case = lower(spl_char_removal)\n",
    "\n",
    "#4.Stopwords Removal\n",
    "stopword_removal = remove_stopwords(lower_case)\n",
    "\n",
    "#5.Stemming\n",
    "stemming = stem_text(stopword_removal)"
   ]
  },
  {
   "cell_type": "code",
   "execution_count": 32,
   "metadata": {},
   "outputs": [
    {
     "name": "stdout",
     "output_type": "stream",
     "text": [
      "terribl complet trash brainless tripe insult anyon 8 year old fan boy im actual pretti disgust movi make money say peopl brainless hand hard earn cash entertain fashion come leav posit 8 8 review oh yes moron sensibl conclus draw anyon rate movi amongst pantheon great titl beyond tri find someth construct say titl hard enjoy iron man toni stark inspir charact movi pale shadow hook movi wonder iron man would knock captain america oh wish charact anyway useless bicker idiot realli organis happi time breweri film chaotic mish mash action element fail set piec found villain quit amus give movi rob time felt ought contribut restor obvious fake rate review movi get imdb\n"
     ]
    }
   ],
   "source": [
    "print(stemming)"
   ]
  },
  {
   "cell_type": "code",
   "execution_count": 46,
   "metadata": {},
   "outputs": [],
   "source": [
    "#Now creating Bag of words\n",
    "bow = []\n",
    "words = word_tokenize(stemming)\n",
    "for word in words:\n",
    "    bow.append(words.count(word))"
   ]
  },
  {
   "cell_type": "code",
   "execution_count": 54,
   "metadata": {},
   "outputs": [
    {
     "name": "stdout",
     "output_type": "stream",
     "text": [
      "Vocabulary: \n",
      "{'one': 612, 'review': 722, 'mention': 555, 'watch': 955, 'episod': 282, 'right': 727, 'exact': 296, 'happen': 403, 'first': 345, 'thing': 882, 'scene': 745, 'violenc': 945, 'set': 769, 'word': 982, 'go': 386, 'show': 779, 'heart': 411, 'pull': 682, 'drug': 256, 'sex': 771, 'classic': 151, 'use': 932, 'call': 116, 'given': 385, 'state': 827, 'focus': 352, 'main': 529, 'citi': 148, 'prison': 672, 'front': 366, 'face': 310, 'high': 415, 'home': 423, 'mani': 536, 'italian': 462, 'death': 214, 'deal': 213, 'never': 588, 'far': 322, 'away': 72, 'would': 988, 'say': 742, 'appeal': 52, 'due': 257, 'fact': 311, 'goe': 388, 'forget': 356, 'pretti': 670, 'pictur': 643, 'audienc': 67, 'charm': 138, 'romanc': 733, 'mess': 556, 'around': 56, 'ever': 291, 'saw': 741, 'develop': 230, 'tast': 869, 'got': 392, 'level': 504, 'kill': 477, 'order': 615, 'get': 380, 'well': 962, 'manner': 537, 'middl': 559, 'class': 150, 'turn': 916, 'lack': 485, 'street': 840, 'skill': 793, 'experi': 304, 'may': 546, 'becom': 85, 'view': 942, 'touch': 902, 'side': 782, 'wonder': 980, 'littl': 514, 'product': 676, 'film': 338, 'old': 610, 'time': 891, 'fashion': 324, 'give': 384, 'sometim': 804, 'sens': 763, 'entir': 281, 'piec': 644, 'actor': 13, 'extrem': 308, 'michael': 558, 'voic': 948, 'truli': 914, 'see': 759, 'edit': 267, 'refer': 706, 'william': 972, 'worth': 987, 'written': 991, 'perform': 636, 'master': 541, 'great': 393, 'comedi': 163, 'life': 506, 'realli': 700, 'come': 162, 'fantasi': 320, 'rather': 693, 'dream': 252, 'remain': 710, 'play': 648, 'particular': 628, 'concern': 172, 'flat': 348, 'everi': 292, 'terribl': 878, 'done': 245, 'thought': 886, 'way': 957, 'spend': 817, 'hot': 428, 'sit': 791, 'air': 25, 'theater': 880, 'light': 507, 'plot': 652, 'dialogu': 232, 'charact': 137, 'even': 288, 'killer': 478, 'disappoint': 238, 'realiz': 699, 'match': 543, 'point': 654, 'still': 833, 'control': 179, 'style': 848, 'us': 931, 'love': 523, 'laugh': 494, 'year': 994, 'impress': 443, 'manag': 535, 'tone': 897, 'imag': 438, 'jump': 472, 'averag': 68, 'spirit': 819, 'young': 998, 'woman': 978, 'career': 123, 'wear': 959, 'interest': 456, 'friend': 365, 'basic': 80, 'famili': 316, 'boy': 103, 'think': 883, 'zombi': 999, 'parent': 624, 'fight': 335, 'movi': 575, 'sudden': 852, 'decid': 216, 'ok': 608, 'make': 531, 'must': 580, 'thriller': 888, 'drama': 250, 'like': 508, 'real': 696, 'total': 901, 'ruin': 736, 'expect': 303, 'similar': 784, 'instead': 452, 'spot': 821, '10': 0, 'dialog': 231, 'shot': 778, 'ignor': 437, 'money': 569, 'visual': 947, 'stun': 846, 'mr': 576, 'offer': 604, 'human': 433, 'relat': 707, 'seem': 760, 'tell': 874, 'power': 666, 'success': 850, 'peopl': 634, 'differ': 234, 'situat': 792, 'theme': 881, 'director': 237, 'action': 12, 'present': 669, 'new': 589, 'york': 997, 'meet': 550, 'connect': 174, 'anoth': 44, 'next': 590, 'person': 639, 'know': 482, 'previous': 671, 'look': 519, 'taken': 865, 'live': 515, 'world': 984, 'soul': 811, 'stage': 822, 'big': 92, 'best': 89, 'place': 645, 'find': 341, 'case': 126, 'act': 11, 'good': 390, 'direct': 236, 'rest': 718, 'talent': 867, 'cast': 127, 'wish': 974, 'work': 983, 'probabl': 673, 'favorit': 327, 'stori': 836, 'caus': 131, 'bore': 100, 'despit': 227, 'seen': 761, 'last': 491, 'paul': 632, 'bring': 107, 'eye': 309, 'role': 731, 'delight': 219, 'kid': 476, 'dress': 253, 'children': 144, 'fun': 368, 'mother': 573, 'slow': 796, 'believ': 88, 'sure': 859, 'date': 207, 'seri': 766, 'today': 893, 'back': 74, 'excit': 300, 'black': 95, 'white': 967, 'tv': 917, 'hero': 414, 'week': 960, 'need': 587, 'chang': 135, 'pace': 622, 'water': 956, 'adventur': 21, 'oh': 607, 'thank': 879, 'nice': 591, 'read': 695, 'plus': 653, 'line': 510, 'let': 503, 'leav': 499, 'doubt': 247, 'quit': 689, 'amaz': 35, 'idea': 436, 'brilliant': 106, 'drop': 255, 'funni': 369, 'continu': 178, 'complet': 169, 'wast': 954, 'write': 989, 'pain': 623, 'bad': 76, 'almost': 28, 'entertain': 280, 'hard': 405, 'hand': 402, 'origin': 616, 'also': 32, 'band': 77, 'follow': 353, 'fit': 346, 'felt': 331, 'star': 825, 'respect': 716, 'made': 527, 'huge': 432, 'aw': 70, 'posit': 662, 'comment': 165, 'forward': 359, 'mistak': 565, 'worst': 986, 'storylin': 837, 'soundtrack': 813, 'song': 807, 'lame': 487, 'countri': 186, 'less': 502, 'four': 361, 'cheap': 140, 'rare': 691, 'happi': 404, 'end': 275, 'credit': 194, 'score': 749, 'least': 498, 'bit': 94, 'effort': 269, 'hell': 412, 'camp': 119, 'alien': 26, 'base': 79, 'odd': 603, 'everyth': 294, 'actual': 15, 'joke': 470, 'low': 525, 'budget': 111, 'problem': 674, 'eventu': 290, 'lost': 521, 'imagin': 439, 'someth': 803, 'better': 90, 'tri': 910, 'brother': 109, 'came': 117, 'eat': 266, 'men': 554, 'horror': 427, 'cheesi': 142, 'monster': 570, 'type': 920, 'usual': 933, 'includ': 444, 'beauti': 83, 'might': 560, 'daughter': 208, 'die': 233, 'care': 122, 'much': 577, 'romant': 734, 'predict': 667, 'humor': 434, 'later': 493, 'earli': 261, 'took': 898, 'notic': 598, 'sinc': 787, 'scari': 744, 'possibl': 663, 'fan': 319, 'enjoy': 278, 'mayb': 547, 'appar': 51, 'cri': 197, 'long': 518, 'ago': 23, 'game': 371, 'secret': 758, 'locat': 517, 'island': 460, 'warn': 953, 'togeth': 894, 'along': 30, 'feel': 330, 'three': 887, 'player': 649, 'name': 582, 'self': 762, 'tale': 866, 'jack': 463, 'yes': 995, 'german': 379, 'howev': 431, 'stay': 828, 'true': 913, 'whole': 968, 'kick': 475, 'beyond': 91, 'evil': 295, 'mad': 526, 'dr': 248, 'soldier': 800, 'top': 899, 'remind': 713, 'spoiler': 820, 'reason': 701, 'rich': 723, 'wood': 981, 'gone': 389, 'start': 826, 'deliv': 220, 'mean': 548, 'suck': 851, 'take': 864, 'annoy': 43, 'shoot': 776, 'minut': 563, 'screen': 752, 'appreci': 54, 'certain': 133, 'era': 284, 'perfect': 635, 'ten': 875, 'english': 277, 'keep': 473, 'cut': 202, 'fantast': 321, 'famous': 318, 'georg': 378, 'roll': 732, 'man': 534, 'constant': 176, 'kind': 479, 'unbeliev': 923, 'sort': 810, 'school': 746, 'project': 677, 'suppos': 858, 'town': 904, 'involv': 459, 'learn': 497, 'ridicul': 726, 'lot': 522, 'intrigu': 457, 'relationship': 708, 'danc': 204, 'stereotyp': 831, 'pass': 629, 'million': 561, 'could': 185, 'spent': 818, 'simpli': 786, 'fail': 312, 'captur': 120, 'titl': 892, 'excel': 298, 'alway': 34, 'hold': 420, 'except': 299, 'major': 530, 'version': 939, 'attempt': 64, 'earlier': 262, 'special': 816, 'effect': 268, 'older': 611, 'horribl': 426, 'chanc': 134, 'busi': 114, 'run': 737, 'emot': 274, 'want': 951, 'destroy': 228, 'war': 952, 'exampl': 297, 'ghost': 381, 'final': 340, 'begin': 86, 'attack': 63, 'return': 720, 'king': 480, 'victim': 940, 'wait': 949, 'someon': 802, 'adult': 20, 'either': 270, 'save': 740, 'rememb': 712, 'cinema': 146, 'dark': 206, 'sister': 790, 'appear': 53, 'anyon': 47, 'dvd': 260, 'etc': 287, 'pleas': 650, 'shame': 773, '20': 1, 'hear': 409, 'other': 618, 'femal': 332, 'fine': 342, 'artist': 59, 'dull': 258, 'script': 754, 'enough': 279, 'coupl': 187, 'hour': 429, 'sequel': 764, 'surpris': 860, 'wrong': 992, 'guy': 399, 'concept': 171, 'stop': 834, 'especi': 286, 'express': 306, 'full': 367, 'plenti': 651, 'john': 469, 'box': 102, 'frank': 362, 'girl': 382, 'former': 358, 'help': 413, 'aspect': 61, 'sequenc': 765, 'fake': 314, 'amus': 40, 'toward': 903, 'women': 979, 'utter': 934, 'weird': 961, 'costum': 184, 'absolut': 6, 'carri': 124, 'although': 33, 'anyth': 48, 'music': 579, 'grow': 396, 'heard': 410, 'straight': 838, 'anim': 41, 'matter': 545, 'sever': 770, 'hilari': 416, 'move': 574, 'wors': 985, 'bunch': 113, 'kept': 474, 'surviv': 861, 'pick': 642, 'season': 756, 'honest': 424, 'bare': 78, 'plan': 647, 'night': 592, 'stupid': 847, 'unless': 928, 'amount': 39, 'known': 483, 'actress': 14, 'part': 626, 'allow': 27, 'judg': 471, 'depth': 222, 'cop': 182, 'video': 941, 'standard': 824, 'complex': 170, 'though': 885, 'detail': 229, 'portray': 661, 'dumb': 259, 'job': 467, 'unfortun': 925, 'rate': 692, 'masterpiec': 542, 'trip': 911, 'mind': 562, 'achiev': 9, 'fall': 315, 'creat': 192, 'poor': 658, 'critic': 199, 'miss': 564, 'futur': 370, 'hope': 425, 'open': 613, 'door': 246, 'talk': 868, 'insid': 450, 'agre': 24, 'genr': 377, 'depict': 221, 'twist': 918, 'physic': 641, 'noth': 597, 'fascin': 323, 'mysteri': 581, 'subject': 849, 'explain': 305, 'brain': 104, 'lie': 505, 'guess': 397, 'realiti': 698, 'design': 225, 'oscar': 617, 'cinematographi': 147, 'repeat': 715, 'els': 272, 'walk': 950, 'pop': 659, 'crazi': 191, 'member': 551, 'polit': 657, 'hollywood': 422, 'valu': 935, 'list': 511, 'behind': 87, 'exist': 302, 'serious': 767, 'abl': 5, 'stand': 823, 'america': 36, 'hate': 407, 'typic': 921, 'speak': 815, 'respons': 717, 'larg': 490, 'cold': 157, 'law': 495, 'liter': 513, 'quick': 688, 'battl': 81, 'put': 685, 'period': 638, 'equal': 283, 'left': 501, 'inde': 446, 'somewhat': 805, 'soon': 808, 'potenti': 665, 'confus': 173, 'cultur': 201, 'prove': 679, 'cours': 188, 'perhap': 637, 'import': 442, 'brought': 110, 'upon': 930, 'within': 976, 'two': 919, 'disturb': 241, 'father': 326, 'troubl': 912, 'most': 572, 'anti': 46, 'messag': 557, 'accent': 7, 'land': 488, 'past': 630, 'centuri': 132, 'atmospher': 62, 'form': 357, 'natur': 585, 'inspir': 451, 'uniqu': 926, 'apart': 50, 'desper': 226, 'suspens': 862, 'unlik': 929, 'compani': 167, 'robert': 729, 'beat': 82, 'polic': 656, 'second': 757, 'third': 884, 'close': 155, 'male': 533, 'sad': 738, 'small': 797, 'memor': 552, 'engag': 276, 'limit': 509, 'novel': 599, 'richard': 724, 'gay': 374, 'murder': 578, 'studio': 844, 'general': 375, 'girlfriend': 383, 'question': 687, 'whether': 966, 'generat': 376, 'indian': 447, 'hit': 419, 'lead': 496, 'approach': 55, 'various': 938, 'offic': 605, 'describ': 223, 'blood': 96, 'suffer': 853, 'immedi': 441, 'crime': 198, 'result': 719, 'room': 735, 'break': 105, 'hous': 430, 'short': 777, 'hair': 400, 'moment': 568, 'among': 38, 'babi': 73, 'qualiti': 686, 'alon': 29, 'dead': 212, 'ultim': 922, 'ad': 16, 'promis': 678, 'non': 593, 'age': 22, 'introduc': 458, 'yet': 996, 'normal': 595, 'without': 977, 'fear': 328, 'caught': 130, 'truth': 915, 'told': 895, 'accept': 8, 'half': 401, 'reveal': 721, 'day': 210, 'treat': 909, 'releas': 709, 'element': 271, 'deep': 217, 'memori': 553, 'provid': 680, 'singl': 789, 'produc': 675, 'la': 484, 'build': 112, 'tension': 876, 'fast': 325, 'gave': 373, 'anyway': 49, 'avoid': 69, 'sound': 812, 'drag': 249, 'cute': 203, 'sweet': 863, 'languag': 489, 'nuditi': 600, 'listen': 512, 'televis': 873, 'rent': 714, 'teenag': 872, 'pure': 683, 'number': 601, 'teen': 871, 'strang': 839, 'serv': 768, 'purpos': 684, 'suggest': 854, 'throughout': 889, 'add': 18, '80': 3, 'obvious': 602, 'struggl': 842, 'figur': 336, 'okay': 609, 'david': 209, 'ride': 725, 'greatest': 394, 'writer': 990, 'husband': 435, 'steal': 829, 'whatev': 965, 'clear': 152, 'camera': 118, 'child': 143, 'creepi': 195, 'cliché': 154, 'went': 963, 'mix': 566, 'jame': 464, 'recommend': 703, 'book': 99, 'issu': 461, 'race': 690, 'background': 75, 'doctor': 242, 'cover': 189, 'lover': 524, 'consid': 175, 'local': 516, 'gun': 398, 'drive': 254, 'god': 387, 'filmmak': 339, 'event': 289, 'gang': 372, 'contain': 177, 'american': 37, 'car': 121, 'note': 596, 'compar': 168, 'sing': 788, 'common': 166, 'opinion': 614, 'whose': 969, 'support': 857, 'mari': 538, 'histor': 417, 'earth': 263, 'stuff': 845, 'public': 681, 'near': 586, 'late': 492, 'screenplay': 753, 'imdb': 440, 'narrat': 583, 'tom': 896, 'head': 408, 'wife': 970, 'flaw': 349, 'marri': 540, 'lose': 520, 'shock': 775, 'son': 806, 'train': 906, 'social': 798, 'weak': 958, 'western': 964, 'simpl': 785, 'art': 58, 'premis': 668, 'none': 594, 'flick': 351, 'familiar': 317, 'innoc': 449, 'fire': 344, 'forc': 355, 'french': 364, 'alreadi': 31, 'discov': 239, 'violent': 946, 'knew': 481, 'abil': 4, 'found': 360, 'execut': 301, 'admit': 19, 'track': 905, 'bodi': 98, 'sleep': 794, 'ask': 60, 'space': 814, 'nation': 584, 'post': 664, 'deserv': 224, 'shown': 780, 'difficult': 235, 'documentari': 243, 'mark': 539, 'viewer': 943, 'fair': 313, 'extra': 307, 'group': 395, 'fli': 350, 'pointless': 655, 'gore': 391, 'decent': 215, 'outsid': 620, 'british': 108, 'often': 606, 'wit': 975, 'co': 156, 'popular': 660, 'ladi': 486, 'joe': 468, 'incred': 445, 'attract': 66, 'clever': 153, 'villain': 944, 'store': 835, 'sick': 781, 'convinc': 180, 'term': 877, 'five': 347, 'award': 71, 'peter': 640, 'adapt': 17, 'intent': 455, 'moral': 571, 'easili': 265, 'remak': 711, 'silli': 783, 'tortur': 900, 'color': 160, 'strong': 841, 'check': 141, 'share': 774, 'materi': 544, 'bother': 101, 'definit': 218, 'free': 363, 'magic': 528, 'creatur': 193, 'easi': 264, 'otherwis': 619, 'crap': 190, 'slight': 795, 'everyon': 293, 'sorri': 809, 'harri': 406, 'throw': 890, 'student': 843, 'hole': 421, 'bill': 93, 'suit': 855, 'understand': 924, 'overal': 621, 'featur': 329, 'across': 10, 'pathet': 631, 'reach': 694, '30': 2, 'win': 973, 'colleg': 159, 'rip': 728, 'de': 211, 'lee': 500, 'modern': 567, 'japanes': 466, 'dog': 244, 'team': 870, 'cool': 181, 'stick': 832, 'comic': 164, 'record': 704, 'univers': 927, 'intens': 454, 'fill': 337, 'danger': 205, 'fiction': 334, 'finish': 343, 'realist': 697, 'dramat': 251, 'rock': 730, 'said': 739, 'scare': 743, 'arriv': 57, 'becam': 84, 'cross': 200, 'pay': 633, 'red': 705, 'plain': 646, 'travel': 908, 'superb': 856, 'cartoon': 125, 'van': 937, 'buy': 115, 'disney': 240, 'wild': 971, 'trash': 907, 'meant': 549, 'claim': 149, 'answer': 45, 'crew': 196, 'histori': 418, 'jane': 465, 'copi': 183, 'wrote': 993, 'chase': 139, 'choic': 145, 'footag': 354, 'collect': 158, 'blue': 97, 'cat': 128, 'sci': 747, 'fi': 333, 'sexual': 772, 'escap': 285, 'somehow': 801, 'embarrass': 273, 'scream': 751, 'attent': 65, 'step': 830, 'societi': 799, 'recent': 702, 'catch': 129, 'combin': 161, 'parti': 627, 'park': 625, 'intellig': 453, 'scienc': 748, 'search': 755, 'inform': 448, 'ann': 42, 'vampir': 936, 'maker': 532, 'channel': 136, 'scott': 750}\n"
     ]
    }
   ],
   "source": [
    "# We can inspect how our vectorizer vectorized the text\n",
    "# This will print out a list of words used, and their index in the vectors\n",
    "word_dict = cv.vocabulary_\n",
    "#For this we can see all our thousand features in form of dictionary\n",
    "print('Vocabulary: ')\n",
    "print(word_dict)"
   ]
  },
  {
   "cell_type": "code",
   "execution_count": 55,
   "metadata": {},
   "outputs": [],
   "source": [
    "#Pickling the word_dict\n",
    "pickle.dump(word_dict,open('bow.pkl','wb'))"
   ]
  },
  {
   "cell_type": "code",
   "execution_count": 56,
   "metadata": {},
   "outputs": [],
   "source": [
    "#Creating the list to test our data\n",
    "empty= []\n",
    "for i in word_dict:\n",
    "    empty.append(stemming.count(i[0]))"
   ]
  },
  {
   "cell_type": "code",
   "execution_count": 64,
   "metadata": {},
   "outputs": [
    {
     "data": {
      "text/plain": [
       "array([[47, 38, 25,  9, 49, 38, 49, 20,  8, 44, 34, 12, 34,  9,  7, 34,\n",
       "        20, 13, 14, 34, 21, 13, 21,  7, 34,  8, 25, 21, 13,  8,  8, 20,\n",
       "        20, 25, 54, 14, 14, 40,  8, 51,  9, 34, 51, 14,  8,  7,  8, 13,\n",
       "        13, 51, 21, 38, 25, 51, 49, 34, 14, 44,  7, 24,  7, 47,  7,  9,\n",
       "        25, 25, 21, 44, 24, 34, 34, 49, 25, 12, 12, 44, 34,  9, 24, 13,\n",
       "         8, 47, 44,  8,  7, 34, 34, 49, 13, 51, 49, 25, 12, 44, 34, 49,\n",
       "        38,  9,  9,  9, 13, 25,  7, 21, 24, 38, 21,  8, 38, 14, 38, 13,\n",
       "        13, 21,  8, 49, 44, 14, 44,  9, 34, 20, 34, 51, 44, 24, 13, 14,\n",
       "        21, 49,  7, 14, 38, 25, 13, 34, 21, 34, 13, 24, 24, 12, 54, 25,\n",
       "        44, 54,  1, 51, 34, 12,  9, 21,  9, 54,  8, 12,  8, 12, 44,  0,\n",
       "        13,  8, 25, 34, 14, 47, 25, 25, 44, 14, 24, 38, 44, 38, 49, 34,\n",
       "        54, 34,  0, 14, 34, 54, 25, 12, 34, 25, 47, 20, 38, 34, 44, 13,\n",
       "        34, 13, 14, 34, 44, 14, 51, 13, 40, 12, 25, 21, 51, 40, 13,  7,\n",
       "        13, 24, 44, 24,  9, 34, 34, 12, 12, 13,  8, 21, 51,  7, 14, 38,\n",
       "        44, 21,  9,  9, 13,  8, 34, 21, 12, 14, 34, 24, 13, 12, 49, 38,\n",
       "        14,  7, 14, 21,  8, 25, 34, 12, 34, 14, 34, 44, 12, 49, 12,  9,\n",
       "        44, 20,  9, 40, 21, 13,  9, 51, 47, 44, 40, 38, 13, 24, 24, 24,\n",
       "        14,  1, 51, 54, 12, 14,  8, 21, 21,  9,  9, 13, 12, 51, 49, 20,\n",
       "        20, 47, 51, 12,  8,  8,  8, 34, 38, 25, 20, 51, 13, 21,  8, 25,\n",
       "         9, 34, 34, 34, 24, 21, 24,  8, 21, 38, 20, 49, 21, 34, 24, 12,\n",
       "        49, 20, 21, 51, 12, 47, 49, 51,  1, 24, 12, 13, 49, 24, 54, 34,\n",
       "        12, 44, 12, 21, 49, 25, 20, 21, 25, 44, 13, 54, 12, 25, 14, 14,\n",
       "        21, 25, 38, 13, 20, 24, 49, 44, 40, 34, 34, 13,  8, 49, 25, 51,\n",
       "        21, 24, 51,  7, 34, 24, 54,  9, 44, 51,  8, 44, 13, 40, 34, 44,\n",
       "         1, 12,  7, 20, 34, 44,  9,  7, 12, 49, 25, 14, 34, 44, 38, 34,\n",
       "        38, 38,  9,  7, 34, 14, 25, 34, 44, 51, 34, 25, 34, 51, 21, 49,\n",
       "        13, 44, 49,  7, 21,  8,  8,  7, 38, 25, 21,  7, 13, 34, 34, 13,\n",
       "        34, 44, 54, 24, 38, 24, 54, 38, 14, 34, 13, 25, 21, 34, 34,  8,\n",
       "        21, 44, 49, 51, 20, 49, 25, 12, 51, 49, 34, 49, 47, 20, 21, 12,\n",
       "        38, 49,  9, 14,  9, 49,  7,  8, 12, 51, 38,  7, 12,  9, 34, 51,\n",
       "        49, 34, 38, 21, 14, 34, 51, 51, 14, 49, 13, 34,  0, 20, 47,  8,\n",
       "         8, 51, 14, 34, 49, 21, 20, 34, 34,  9,  7, 21, 34, 49, 49,  8,\n",
       "        13,  1, 12,  8,  7,  8, 20, 51, 34,  8, 51, 44,  9, 13,  9, 21,\n",
       "        51, 21, 51, 51, 25,  7, 20, 34, 51, 25, 34, 20, 25,  9, 12,  7,\n",
       "        34, 13, 34, 20, 12, 13, 40, 34, 13, 51,  7, 51, 13, 51,  1, 14,\n",
       "        21, 12, 34, 21, 44, 14, 13, 14,  1, 13, 38, 25, 44, 25, 51,  8,\n",
       "        21, 13, 21, 25,  8, 20, 47, 14, 44, 54, 51,  7, 14, 44, 13, 40,\n",
       "         8, 25, 34, 49, 12, 24,  7, 38, 14, 47, 21, 38, 49,  9, 13, 21,\n",
       "        25, 13, 20, 12, 24, 12, 49, 34, 51, 34, 51, 20, 44, 34, 38, 24,\n",
       "        21, 24, 24,  1, 12, 13, 13, 49, 24, 54, 34, 34, 13, 21, 21, 13,\n",
       "        21, 13, 54, 12, 13,  9, 44, 14,  8, 44, 25, 51, 25, 51, 24, 13,\n",
       "        21, 51,  8, 40, 54, 13, 51, 14, 34, 13, 21, 38, 12, 13, 34, 44,\n",
       "        21, 25, 34, 34, 25, 49, 24, 40, 38,  7, 25, 34,  7,  7,  1,  9,\n",
       "         7, 54, 20, 24, 51, 12, 47, 14, 12, 34, 54, 21, 38, 38, 12, 20,\n",
       "        34, 20, 25, 51, 12,  1, 51, 14, 13, 51, 13, 40, 51, 54, 12, 40,\n",
       "         9,  8, 21, 44, 44, 51, 20, 38, 14, 44, 38, 49, 14, 25, 13, 34,\n",
       "        13, 24, 12, 44,  8,  7, 51, 51, 34, 14, 21, 34, 24, 40, 24, 44,\n",
       "        38, 44, 13, 40, 44, 34, 34, 13, 34, 44, 51,  3, 47, 34,  8, 47,\n",
       "        14, 38,  7,  9, 20, 34,  9, 21, 21, 21, 21, 21,  9, 25,  1, 38,\n",
       "        12, 54, 38, 12, 14, 21, 24, 21, 24,  7, 14,  7,  8, 49,  7, 21,\n",
       "        51, 21, 40, 21, 34, 21, 47,  9, 34, 25, 20, 49, 34, 13, 40, 24,\n",
       "        34, 54, 40, 44, 20,  9,  8, 25, 24, 34, 34, 44, 34,  9,  9, 34,\n",
       "        51, 13, 40,  8,  8, 54,  8,  8,  8, 51, 14, 12,  7, 51,  8, 49,\n",
       "        51, 44, 12, 34, 51, 34, 40, 13, 14, 34, 14, 14, 25, 12,  8, 49,\n",
       "         7,  8, 13,  7, 14, 47, 12, 47,  9, 21, 13, 24,  1, 54, 51, 21,\n",
       "        12, 34, 34, 21, 44,  8, 51, 13, 51, 54, 25, 49, 38, 34, 44, 21,\n",
       "        34, 21, 34, 25, 12, 14,  8, 25, 21, 49, 47, 21, 34, 49, 34, 20,\n",
       "        44, 34, 20, 12, 34, 13, 47,  8, 51, 13, 38,  0,  9, 21, 38, 14,\n",
       "        24, 25,  1, 14, 44, 21, 34, 21, 38, 13, 54,  8, 14,  8,  8, 38,\n",
       "        14, 38, 34, 34, 51, 12, 21, 13, 38, 13, 44, 34, 21, 12, 12, 14,\n",
       "         9, 44, 25, 21, 51, 21, 20,  1, 21,  9, 21, 21,  8, 21, 12, 21,\n",
       "        34,  8, 34, 49, 34, 49, 34, 51, 34, 34, 38, 21, 21, 13, 13, 54,\n",
       "        34, 34, 54, 51, 12, 25, 21, 34]])"
      ]
     },
     "execution_count": 64,
     "metadata": {},
     "output_type": "execute_result"
    }
   ],
   "source": [
    "#print(empty)\n",
    "\n",
    "#Converting the empty list into ndim array \n",
    "np.array(empty).reshape(1,1000)"
   ]
  },
  {
   "cell_type": "code",
   "execution_count": 65,
   "metadata": {},
   "outputs": [],
   "source": [
    "#Prediction\n",
    "y_pred = bnb.predict(np.array(empty).reshape(1,1000))"
   ]
  },
  {
   "cell_type": "code",
   "execution_count": 66,
   "metadata": {},
   "outputs": [
    {
     "name": "stdout",
     "output_type": "stream",
     "text": [
      "Movie is not good do not, watch. Reviews are Negative\n"
     ]
    }
   ],
   "source": [
    "# 1 == Positive, 0 == Positive\n",
    "if y_pred == 0:\n",
    "    print(\"Movie is not good do not, watch. Reviews are Negative\")\n",
    "else:\n",
    "    print(\"You can watch the movie. Reviews are Positive\")"
   ]
  },
  {
   "cell_type": "code",
   "execution_count": null,
   "metadata": {},
   "outputs": [],
   "source": []
  }
 ],
 "metadata": {
  "kernelspec": {
   "display_name": "Python 3",
   "language": "python",
   "name": "python3"
  },
  "language_info": {
   "codemirror_mode": {
    "name": "ipython",
    "version": 3
   },
   "file_extension": ".py",
   "mimetype": "text/x-python",
   "name": "python",
   "nbconvert_exporter": "python",
   "pygments_lexer": "ipython3",
   "version": "3.7.6"
  }
 },
 "nbformat": 4,
 "nbformat_minor": 2
}
